{
 "cells": [
  {
   "cell_type": "markdown",
   "metadata": {},
   "source": [
    "# General Settings:\n",
    "\n",
    "Directory Data:"
   ]
  },
  {
   "cell_type": "code",
   "execution_count": 1,
   "metadata": {},
   "outputs": [
    {
     "name": "stdout",
     "output_type": "stream",
     "text": [
      "['T62.filter.fastq', 'TacT3.filter.fastq', 'Ita3.filter.fastq', 'Control.filter.fastq']\n"
     ]
    }
   ],
   "source": [
    "%load_ext autoreload\n",
    "%autoreload 2\n",
    "\n",
    "import pandas as pd\n",
    "import numpy as np\n",
    "from datetime import datetime\n",
    "\n",
    "\n",
    "import ribo_util\n",
    "import ribo_main\n",
    "import ribo_analysis\n",
    "import ribo_plot\n",
    "import ribo_coords\n",
    "\n",
    "import os\n",
    "\n",
    "# File names can be manually added to list, or read as .csv with header == Library\n",
    "# Library names must be the same as the fastq file name\n",
    "\n",
    "path_pc     = '/home/gyrase/datatank/Bikmetov/toxin_profiling/2018_Bacterial_Pipeline_riboseq-clean_first/results/'  # location of folder for ribosome profiling\n",
    "path_script = '/home/gyrase/datatank/Bikmetov/toxin_profiling/2018_Bacterial_Pipeline_riboseq-clean_first/'\n",
    "\n",
    "all_files  = [x for x in os.listdir(path_pc + '/libraries/FASTQ/')]\n",
    "file_csv   = path_script  + 'Library_names.csv'  # alternatively, provide .csv with filenames\n",
    "'''\n",
    "all_files  = []                              # sample name, same as FASTQ filename\n",
    "file_csv   = path_pc  + 'Library_names.csv'  # alternatively, provide .csv with filenames\n",
    "\n",
    "library_id = pd.read_csv(file_csv)\n",
    "\n",
    "for fname in library_id.Library:\n",
    "    all_files.append(fname)'''\n",
    "print all_files\n",
    "\n",
    "inputs = {}\n",
    "inputs['files'] = []\n",
    "inputs['multiprocess'] = 'yes'\n",
    "inputs['threads']      = 20   # CPU information for multithreading applications\n",
    "inputs['cores']        = 10\n",
    "\n",
    "paths_in = {}\n",
    "paths_in['path_gff']        = path_pc + 'annotations/Coli/Coli.gff'\n",
    "paths_in['path_gff_dict']   = path_pc + 'annotations/Coli/Coli_dict'       # this will be made from the GFF file\n",
    "paths_in['path_badgenes']   = path_pc + 'annotations/Coli/bad_genes.csv'   # list of genes to exclude\n",
    "paths_in['path_annotation'] = path_pc + 'annotations/Coli/annotation.csv'  # adds gene description to GFF_dict \n",
    "\n",
    "# Outputs from analysis will be placed in the foillowing directories:\n",
    "paths_out = {}\n",
    "paths_out['path_density']      = path_pc  + 'libraries/density/density/'  # Created from Ribo_Density\n",
    "paths_out['path_log']          = path_pc  + 'libraries/density/logs/'\n",
    "paths_out['path_analysis_log'] = path_pc  + 'libraries/analysis/logs/'\n",
    "paths_out['path_analysis']     = path_pc  + 'libraries/analysis/individual/'\n",
    "paths_out['path_figures']      = path_pc  + 'libraries/figures/'\n",
    "\n",
    "    \n",
    "# Check inputs, create output paths\n",
    "step = 'analysis'                                # density or analysis\n",
    "ribo_util.check_inputs(inputs, paths_in, step)   # will remove file from analysis for not having a density file\n",
    "ribo_util.createpath(inputs, paths_out, all_files)          # create output paths\n"
   ]
  },
  {
   "cell_type": "markdown",
   "metadata": {},
   "source": [
    "# Analysis Settings\n",
    "\n",
    "Set settings values for the various analyses"
   ]
  },
  {
   "cell_type": "code",
   "execution_count": 20,
   "metadata": {},
   "outputs": [],
   "source": [
    "# General Settings \n",
    "settings = {}\n",
    "settings['minlength'] = 15    # minimum read lenght\n",
    "settings['maxlength'] = 40    # maximum read length\n",
    "settings['shift']     = 11    # A-site shift\n",
    "settings['gff_extra'] = 50    # Number of nt added before start seq and after stop seq in GFF_dict\n",
    "settings['threshold'] = 1    # in reads per codon\n",
    "settings['alignment'] = '3'   # '3' or '5'\n",
    "\n",
    "# Avggenes Settings\n",
    "settings['length_out_ORF'] = 50\n",
    "settings['length_in_ORF']  = 100        # genes shorter than this are excluded\n",
    "settings['density_type']   = 'reads'    # 'reads' or 'rpm' \n",
    "settings['equal_weight']   = 'yes'      # 'yes' or 'no', if yes, change density_type to reads -- faster\n",
    "settings['next_gene']      = 25         # genes closer than this are removed from start and stop \n",
    "\n",
    "# Pausescore settings\n",
    "settings['A_site shift']    = -11\n",
    "settings['plot_upstream']   = 40\n",
    "settings['plot_downstream'] = 50\n",
    "settings['start_trim']      = 50\n",
    "settings['stop_trim']       = 20\n",
    "settings['frameshift']      = 0\n",
    "\n",
    "# Genelist settings\n",
    "settings['subgroup'] = 'none'\n",
    "\n",
    "# Pausescore waves settings\n",
    "settings['plot_upstream_wave']   = 106\n",
    "settings['plot_downstream_wave'] = 106\n",
    "settings['next_codon']           = 'yes'\n",
    "\n",
    "# Motif analysis\n",
    "settings['motif_length'] = 9\n"
   ]
  },
  {
   "cell_type": "markdown",
   "metadata": {},
   "source": [
    "# Create Annotation dictionary from GFF\n",
    "\n",
    "Pipeline uses a simplified dictionary of the GFF for speed. This function will strip the GFF to the gene name, start and stop position, and sequence of the gene\n",
    "\n",
    "This needs to be run only once, so you can comment it off once it does run\n"
   ]
  },
  {
   "cell_type": "code",
   "execution_count": 21,
   "metadata": {},
   "outputs": [],
   "source": [
    "gff_settings = {}\n",
    "gff_settings['path_out']         = 0             # set to 0 to output in annotations folder\n",
    "gff_settings['feat_of_interest'] = 'all'         # all, CDS, tRNA, rRNA: recommend using all\n",
    "gff_settings['name_qual']        = 'Name'        # GFF gene qualifier\n",
    "gff_settings['name_qual_alt']    = 'ID'          # Secondary GFF gene qualifier if no name is present\n",
    "gff_settings['remove_genes']     = 'yes'         # remove hard to align genes listed in bad_genes.csv\n",
    "gff_settings['gff_extra']         = 50           # additional sequence upstream and downstream of gene (set to 50)\n",
    "\n",
    "#GFF_conversion = ribo_util.GFF_to_dict(paths_in, gff_settings)\n"
   ]
  },
  {
   "cell_type": "code",
   "execution_count": 22,
   "metadata": {
    "scrolled": true
   },
   "outputs": [
    {
     "name": "stdout",
     "output_type": "stream",
     "text": [
      "Started  at 2020-01-24 16:15:16.842248\n",
      "['T62.filter.fastq', 'TacT3.filter.fastq', 'Ita3.filter.fastq', 'Control.filter.fastq']\n",
      "Started asymmetry analysis at 2020-01-24 16:17:32.802675\n",
      "42360136.0\n",
      "[7115274. 7029851. 5286136. 4618415. 3651400. 3253557. 3293794. 2854008.\n",
      " 2803412. 2454289.]\n",
      "13150128.0\n",
      "[3405642. 2448826. 1679751. 1300325.  888547.  795895.  795856.  640197.\n",
      "  600110.  594979.]\n",
      "5071904.0\n",
      "[913542. 759410. 666052. 535856. 451255. 395622. 392254. 361796. 338128.\n",
      " 257989.]\n",
      "16846500.0\n",
      "[2278037. 1905547. 1778740. 1653611. 1502624. 1618224. 1560043. 1551383.\n",
      " 1499831. 1498460.]\n",
      "Finished asymmetry analysis at 2020-01-24 16:17:42.130581\n",
      "Finished  at 2020-01-24 16:17:42.131013\n"
     ]
    }
   ],
   "source": [
    "lib_count = len(all_files)\n",
    "lib_index = 0 \n",
    "lib_runs  = 8  # limits number of samples processed, scale with RAM imitations\n",
    "\n",
    "for loops in range(0, lib_count / lib_runs + 2):\n",
    "\n",
    "    if lib_index < lib_count:\n",
    "        print \"Started  at \" + str(datetime.now())\n",
    "        if lib_count - lib_index >= lib_runs:\n",
    "            inputs['files'] = [all_files[i] for i in range(lib_index, lib_index + lib_runs)]\n",
    "\n",
    "            print inputs['files']\n",
    "            \n",
    "            if not 'gff_dict' in globals(): \n",
    "                gff_dict, plus_dict, minus_dict = ribo_util.loadlargePickles(inputs, settings, paths_in, paths_out)\n",
    "            else: \n",
    "                gff_dict, plus_dict, minus_dict = ribo_util.loadlargePickles(inputs, settings, paths_in, paths_out)\n",
    "            \n",
    "            #average_gene = ribo_analysis.avggenes(inputs, paths_out, settings, gff_dict, plus_dict, minus_dict)\n",
    "            #pausescore_analysis = ribo_analysis.pausescore(inputs, paths_out, settings, gff_dict, plus_dict, minus_dict)\n",
    "            #genelists = ribo_analysis.genelist(inputs, paths_out, settings, gff_dict, plus_dict, minus_dict)\n",
    "            asymmetry_analysis = ribo_coords.asymmetry(inputs, paths_out, settings, gff_dict, plus_dict, minus_dict)\n",
    "            #frame_analysis     = ribo_analysis.frame(inputs, paths_out, settings, gff_dict, plus_dict, minus_dict)\n",
    "            #wave_analysis = ribo_analysis.pausescore_waves(inputs, paths_out, settings, gff_dict, plus_dict, minus_dict)\n",
    "            #motif_analysis = ribo_analysis.motif_pausescore(inputs, paths_out, settings, gff_dict, plus_dict, minus_dict)\n",
    "            \n",
    "        else:\n",
    "            inputs['files'] = [all_files[i] for i in range(lib_index, lib_count)]\n",
    "            \n",
    "            print inputs['files']    \n",
    "            if not 'gff_dict' in globals(): \n",
    "                gff_dict, plus_dict, minus_dict = ribo_util.loadlargePickles(inputs, settings, paths_in, paths_out)\n",
    "            else: \n",
    "                gff_dict, plus_dict, minus_dict = ribo_util.loadlargePickles(inputs, settings, paths_in, paths_out)\n",
    "                \n",
    "            #average_gene = ribo_analysis.avggenes(inputs, paths_out, settings, gff_dict, plus_dict, minus_dict)\n",
    "            #pausescore_analysis = ribo_analysis.pausescore(inputs, paths_out, settings, gff_dict, plus_dict, minus_dict)\n",
    "            #genelists = ribo_analysis.genelist(inputs, paths_out, settings, gff_dict, plus_dict, minus_dict)\n",
    "            asymmetry_analysis = ribo_coords.asymmetry(inputs, paths_out, settings, gff_dict, plus_dict, minus_dict)\n",
    "            #frame_analysis     = ribo_analysis.frame(inputs, paths_out, settings, gff_dict, plus_dict, minus_dict)\n",
    "            #wave_analysis = ribo_analysis.pausescore_waves(inputs, paths_out, settings, gff_dict, plus_dict, minus_dict)\n",
    "            #motif_analysis = ribo_analysis.motif_pausescore(inputs, paths_out, settings, gff_dict, plus_dict, minus_dict)\n",
    "\n",
    "    else:\n",
    "        continue\n",
    "    lib_index += lib_runs  \n",
    "print \"Finished  at \" + str(datetime.now())"
   ]
  },
  {
   "cell_type": "code",
   "execution_count": 1,
   "metadata": {},
   "outputs": [],
   "source": [
    "import pickle"
   ]
  },
  {
   "cell_type": "code",
   "execution_count": 24,
   "metadata": {},
   "outputs": [
    {
     "data": {
      "text/plain": [
       "array([18.01181568, 14.97287804, 13.13218862, 10.5651842 ,  8.89715184,\n",
       "        7.80026594,  7.73386089,  7.13333691,  6.6666877 ,  5.08663019])"
      ]
     },
     "execution_count": 24,
     "metadata": {},
     "output_type": "execute_result"
    }
   ],
   "source": [
    "with open('results/libraries/analysis/individual/Ita3.filter.fastq/asymmetry_per_cent', 'r') as inf:\n",
    "    Ita3 = pickle.load(inf)\n",
    "Ita3"
   ]
  },
  {
   "cell_type": "code",
   "execution_count": 25,
   "metadata": {},
   "outputs": [
    {
     "data": {
      "text/plain": [
       "{'Control': array([13.52231621, 11.31123379, 10.55851364,  9.81575401,  8.91950257,\n",
       "         9.60569851,  9.26033894,  9.20893361,  8.90292346,  8.89478527]),\n",
       " 'Ita3': array([18.01181568, 14.97287804, 13.13218862, 10.5651842 ,  8.89715184,\n",
       "         7.80026594,  7.73386089,  7.13333691,  6.6666877 ,  5.08663019]),\n",
       " 'Per cent': array(['0-10', '10-20', '20-30', '30-40', '40-50', '50-60', '60-70',\n",
       "        '70-80', '80-90', '90-100'], dtype='|S6'),\n",
       " 'T62': array([16.79709905, 16.59544011, 12.47903453, 10.90273884,  8.61989678,\n",
       "         7.6807048 ,  7.77569269,  6.73748545,  6.61804296,  5.79386478]),\n",
       " 'TacT3': array([25.89816616, 18.62206969, 12.77364753,  9.88830679,  6.75694564,\n",
       "         6.05237455,  6.05207797,  4.86837086,  4.56352972,  4.52451109])}"
      ]
     },
     "execution_count": 25,
     "metadata": {},
     "output_type": "execute_result"
    }
   ],
   "source": [
    "per_cent = {}\n",
    "for x in all_files:\n",
    "    with open('results/libraries/analysis/individual/' + x + '/asymmetry_per_cent_solo', 'r') as inf:\n",
    "        df = pd.DataFrame.from_dict(pickle.load(inf)).T\n",
    "        res = df.sum() * 100 / df.sum().sum()\n",
    "        per_cent[x.split('.')[0]] = res\n",
    "per_cent['Per cent'] = np.array(['0-10', '10-20', '20-30', '30-40', '40-50', '50-60', '60-70', '70-80', '80-90', '90-100'])\n",
    "per_cent"
   ]
  },
  {
   "cell_type": "code",
   "execution_count": 26,
   "metadata": {},
   "outputs": [],
   "source": [
    "df = pd.DataFrame.from_dict(per_cent).set_index('Per cent')"
   ]
  },
  {
   "cell_type": "code",
   "execution_count": 27,
   "metadata": {},
   "outputs": [
    {
     "data": {
      "text/html": [
       "<div>\n",
       "<style scoped>\n",
       "    .dataframe tbody tr th:only-of-type {\n",
       "        vertical-align: middle;\n",
       "    }\n",
       "\n",
       "    .dataframe tbody tr th {\n",
       "        vertical-align: top;\n",
       "    }\n",
       "\n",
       "    .dataframe thead th {\n",
       "        text-align: right;\n",
       "    }\n",
       "</style>\n",
       "<table border=\"1\" class=\"dataframe\">\n",
       "  <thead>\n",
       "    <tr style=\"text-align: right;\">\n",
       "      <th></th>\n",
       "      <th>Control</th>\n",
       "      <th>Ita3</th>\n",
       "      <th>T62</th>\n",
       "      <th>TacT3</th>\n",
       "    </tr>\n",
       "    <tr>\n",
       "      <th>Per cent</th>\n",
       "      <th></th>\n",
       "      <th></th>\n",
       "      <th></th>\n",
       "      <th></th>\n",
       "    </tr>\n",
       "  </thead>\n",
       "  <tbody>\n",
       "    <tr>\n",
       "      <th>0-10</th>\n",
       "      <td>13.522316</td>\n",
       "      <td>18.011816</td>\n",
       "      <td>16.797099</td>\n",
       "      <td>25.898166</td>\n",
       "    </tr>\n",
       "    <tr>\n",
       "      <th>10-20</th>\n",
       "      <td>11.311234</td>\n",
       "      <td>14.972878</td>\n",
       "      <td>16.595440</td>\n",
       "      <td>18.622070</td>\n",
       "    </tr>\n",
       "    <tr>\n",
       "      <th>20-30</th>\n",
       "      <td>10.558514</td>\n",
       "      <td>13.132189</td>\n",
       "      <td>12.479035</td>\n",
       "      <td>12.773648</td>\n",
       "    </tr>\n",
       "    <tr>\n",
       "      <th>30-40</th>\n",
       "      <td>9.815754</td>\n",
       "      <td>10.565184</td>\n",
       "      <td>10.902739</td>\n",
       "      <td>9.888307</td>\n",
       "    </tr>\n",
       "    <tr>\n",
       "      <th>40-50</th>\n",
       "      <td>8.919503</td>\n",
       "      <td>8.897152</td>\n",
       "      <td>8.619897</td>\n",
       "      <td>6.756946</td>\n",
       "    </tr>\n",
       "    <tr>\n",
       "      <th>50-60</th>\n",
       "      <td>9.605699</td>\n",
       "      <td>7.800266</td>\n",
       "      <td>7.680705</td>\n",
       "      <td>6.052375</td>\n",
       "    </tr>\n",
       "    <tr>\n",
       "      <th>60-70</th>\n",
       "      <td>9.260339</td>\n",
       "      <td>7.733861</td>\n",
       "      <td>7.775693</td>\n",
       "      <td>6.052078</td>\n",
       "    </tr>\n",
       "    <tr>\n",
       "      <th>70-80</th>\n",
       "      <td>9.208934</td>\n",
       "      <td>7.133337</td>\n",
       "      <td>6.737485</td>\n",
       "      <td>4.868371</td>\n",
       "    </tr>\n",
       "    <tr>\n",
       "      <th>80-90</th>\n",
       "      <td>8.902923</td>\n",
       "      <td>6.666688</td>\n",
       "      <td>6.618043</td>\n",
       "      <td>4.563530</td>\n",
       "    </tr>\n",
       "    <tr>\n",
       "      <th>90-100</th>\n",
       "      <td>8.894785</td>\n",
       "      <td>5.086630</td>\n",
       "      <td>5.793865</td>\n",
       "      <td>4.524511</td>\n",
       "    </tr>\n",
       "  </tbody>\n",
       "</table>\n",
       "</div>"
      ],
      "text/plain": [
       "            Control       Ita3        T62      TacT3\n",
       "Per cent                                            \n",
       "0-10      13.522316  18.011816  16.797099  25.898166\n",
       "10-20     11.311234  14.972878  16.595440  18.622070\n",
       "20-30     10.558514  13.132189  12.479035  12.773648\n",
       "30-40      9.815754  10.565184  10.902739   9.888307\n",
       "40-50      8.919503   8.897152   8.619897   6.756946\n",
       "50-60      9.605699   7.800266   7.680705   6.052375\n",
       "60-70      9.260339   7.733861   7.775693   6.052078\n",
       "70-80      9.208934   7.133337   6.737485   4.868371\n",
       "80-90      8.902923   6.666688   6.618043   4.563530\n",
       "90-100     8.894785   5.086630   5.793865   4.524511"
      ]
     },
     "execution_count": 27,
     "metadata": {},
     "output_type": "execute_result"
    }
   ],
   "source": [
    "df"
   ]
  },
  {
   "cell_type": "code",
   "execution_count": 28,
   "metadata": {
    "scrolled": true
   },
   "outputs": [
    {
     "data": {
      "image/png": "[encoded data removed]",
      "text/plain": [
       "<Figure size 432x288 with 1 Axes>"
      ]
     },
     "metadata": {
      "needs_background": "light"
     },
     "output_type": "display_data"
    }
   ],
   "source": [
    "import matplotlib.pylab as plt\n",
    "%matplotlib inline\n",
    "plt.plot(df)\n",
    "plt.legend()\n",
    "plt.show()"
   ]
  },
  {
   "cell_type": "code",
   "execution_count": 29,
   "metadata": {
    "scrolled": true
   },
   "outputs": [
    {
     "data": {
      "text/plain": [
       "<matplotlib.axes._subplots.AxesSubplot at 0x7f9464dbe490>"
      ]
     },
     "execution_count": 29,
     "metadata": {},
     "output_type": "execute_result"
    },
    {
     "data": {
      "image/png": "[encoded data removed]",
      "text/plain": [
       "<Figure size 432x288 with 1 Axes>"
      ]
     },
     "metadata": {
      "needs_background": "light"
     },
     "output_type": "display_data"
    }
   ],
   "source": [
    "df.plot()"
   ]
  },
  {
   "cell_type": "code",
   "execution_count": 34,
   "metadata": {},
   "outputs": [],
   "source": [
    "df.to_excel('per_cent.xlsx')"
   ]
  },
  {
   "cell_type": "code",
   "execution_count": 32,
   "metadata": {},
   "outputs": [
    {
     "ename": "ImportError",
     "evalue": "No module named openpyxl.workbook",
     "output_type": "error",
     "traceback": [
      "\u001b[0;31m---------------------------------------------------------------------------\u001b[0m",
      "\u001b[0;31mImportError\u001b[0m                               Traceback (most recent call last)",
      "\u001b[0;32m<ipython-input-32-0af61fb24ac2>\u001b[0m in \u001b[0;36m<module>\u001b[0;34m()\u001b[0m\n\u001b[1;32m      1\u001b[0m \u001b[0mdf2\u001b[0m \u001b[0;34m=\u001b[0m \u001b[0mdf\u001b[0m\u001b[0;34m.\u001b[0m\u001b[0mcopy\u001b[0m\u001b[0;34m(\u001b[0m\u001b[0;34m)\u001b[0m\u001b[0;34m\u001b[0m\u001b[0m\n\u001b[0;32m----> 2\u001b[0;31m \u001b[0;32mwith\u001b[0m \u001b[0mpd\u001b[0m\u001b[0;34m.\u001b[0m\u001b[0mExcelWriter\u001b[0m\u001b[0;34m(\u001b[0m\u001b[0;34m'per_cent.xlsx'\u001b[0m\u001b[0;34m)\u001b[0m \u001b[0;32mas\u001b[0m \u001b[0mwriter\u001b[0m\u001b[0;34m:\u001b[0m  \u001b[0;31m# doctest: +SKIP\u001b[0m\u001b[0;34m\u001b[0m\u001b[0m\n\u001b[0m\u001b[1;32m      3\u001b[0m     \u001b[0mdf1\u001b[0m\u001b[0;34m.\u001b[0m\u001b[0mto_excel\u001b[0m\u001b[0;34m(\u001b[0m\u001b[0mwriter\u001b[0m\u001b[0;34m,\u001b[0m \u001b[0msheet_name\u001b[0m\u001b[0;34m=\u001b[0m\u001b[0;34m'per_cent'\u001b[0m\u001b[0;34m)\u001b[0m\u001b[0;34m\u001b[0m\u001b[0m\n",
      "\u001b[0;32m/home/gyrase/anaconda2/envs/ribo-seq/lib/python2.7/site-packages/pandas/io/excel.pyc\u001b[0m in \u001b[0;36m__init__\u001b[0;34m(self, path, engine, mode, **engine_kwargs)\u001b[0m\n\u001b[1;32m   1202\u001b[0m     \u001b[0;32mdef\u001b[0m \u001b[0m__init__\u001b[0m\u001b[0;34m(\u001b[0m\u001b[0mself\u001b[0m\u001b[0;34m,\u001b[0m \u001b[0mpath\u001b[0m\u001b[0;34m,\u001b[0m \u001b[0mengine\u001b[0m\u001b[0;34m=\u001b[0m\u001b[0mNone\u001b[0m\u001b[0;34m,\u001b[0m \u001b[0mmode\u001b[0m\u001b[0;34m=\u001b[0m\u001b[0;34m'w'\u001b[0m\u001b[0;34m,\u001b[0m \u001b[0;34m**\u001b[0m\u001b[0mengine_kwargs\u001b[0m\u001b[0;34m)\u001b[0m\u001b[0;34m:\u001b[0m\u001b[0;34m\u001b[0m\u001b[0m\n\u001b[1;32m   1203\u001b[0m         \u001b[0;31m# Use the openpyxl module as the Excel writer.\u001b[0m\u001b[0;34m\u001b[0m\u001b[0;34m\u001b[0m\u001b[0m\n\u001b[0;32m-> 1204\u001b[0;31m         \u001b[0;32mfrom\u001b[0m \u001b[0mopenpyxl\u001b[0m\u001b[0;34m.\u001b[0m\u001b[0mworkbook\u001b[0m \u001b[0;32mimport\u001b[0m \u001b[0mWorkbook\u001b[0m\u001b[0;34m\u001b[0m\u001b[0m\n\u001b[0m\u001b[1;32m   1205\u001b[0m \u001b[0;34m\u001b[0m\u001b[0m\n\u001b[1;32m   1206\u001b[0m         \u001b[0msuper\u001b[0m\u001b[0;34m(\u001b[0m\u001b[0m_OpenpyxlWriter\u001b[0m\u001b[0;34m,\u001b[0m \u001b[0mself\u001b[0m\u001b[0;34m)\u001b[0m\u001b[0;34m.\u001b[0m\u001b[0m__init__\u001b[0m\u001b[0;34m(\u001b[0m\u001b[0mpath\u001b[0m\u001b[0;34m,\u001b[0m \u001b[0mmode\u001b[0m\u001b[0;34m=\u001b[0m\u001b[0mmode\u001b[0m\u001b[0;34m,\u001b[0m \u001b[0;34m**\u001b[0m\u001b[0mengine_kwargs\u001b[0m\u001b[0;34m)\u001b[0m\u001b[0;34m\u001b[0m\u001b[0m\n",
      "\u001b[0;31mImportError\u001b[0m: No module named openpyxl.workbook"
     ]
    }
   ],
   "source": [
    "df2 = df.copy()\n",
    "with pd.ExcelWriter('per_cent.xlsx') as writer:  # doctest: +SKIP\n",
    "    df1.to_excel(writer, sheet_name='per_cent')"
   ]
  }
 ],
 "metadata": {
  "kernelspec": {
   "display_name": "Python 3",
   "language": "python",
   "name": "python3"
  },
  "language_info": {
   "codemirror_mode": {
    "name": "ipython",
    "version": 3
   },
   "file_extension": ".py",
   "mimetype": "text/x-python",
   "name": "python",
   "nbconvert_exporter": "python",
   "pygments_lexer": "ipython3",
   "version": "3.7.4"
  }
 },
 "nbformat": 4,
 "nbformat_minor": 2
}
